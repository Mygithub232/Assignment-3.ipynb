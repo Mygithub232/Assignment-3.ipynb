{
 "cells": [
  {
   "cell_type": "code",
   "execution_count": null,
   "metadata": {},
   "outputs": [],
   "source": [
    "\n",
    "\n",
    "\n",
    "\n"
   ]
  },
  {
   "cell_type": "code",
   "execution_count": 2,
   "metadata": {},
   "outputs": [
    {
     "name": "stdout",
     "output_type": "stream",
     "text": [
      "Enter a number: -2\n",
      "Negative number\n"
     ]
    }
   ],
   "source": [
    "1. Write a Python Program to Check if a Number is Positive, Negative or Zero?\n",
    "\n",
    "num = float(input(\"Enter a number: \"))\n",
    "if num > 0:\n",
    "   print(\"Positive number\")\n",
    "elif num == 0:\n",
    "   print(\"Zero\")\n",
    "else:\n",
    "   print(\"Negative number\")"
   ]
  },
  {
   "cell_type": "code",
   "execution_count": 3,
   "metadata": {},
   "outputs": [
    {
     "name": "stdout",
     "output_type": "stream",
     "text": [
      "Enter a number: 55\n",
      "55 is Odd\n"
     ]
    }
   ],
   "source": [
    "2. Write a Python Program to Check if a Number is Odd or Even?\n",
    "\n",
    "# Python program to check if the input number is odd or even.\n",
    "# A number is even if division by 2 gives a remainder of 0.\n",
    "# If the remainder is 1, it is an odd number.\n",
    "\n",
    "num = int(input(\"Enter a number: \"))\n",
    "if (num % 2) == 0:\n",
    "   print(\"{0} is Even\".format(num))\n",
    "else:\n",
    "   print(\"{0} is Odd\".format(num))"
   ]
  },
  {
   "cell_type": "code",
   "execution_count": 6,
   "metadata": {},
   "outputs": [
    {
     "name": "stdout",
     "output_type": "stream",
     "text": [
      "Enter a year number: 2005\n",
      "2005 is not a leap year\n"
     ]
    }
   ],
   "source": [
    "3. Write a Python Program to Check Leap Year?\n",
    "\n",
    "# Python program to check if year is a leap year or not\n",
    "\n",
    "year = int(input(\"Enter a year number: \"))\n",
    "\n",
    "# To get year (integer input) from the user\n",
    "# year = int(input(\"Enter a year: \"))\n",
    "\n",
    "if (year % 4) == 0:\n",
    "   if (year % 100) == 0:\n",
    "       if (year % 400) == 0:\n",
    "           print(\"{0} is a leap year\".format(year))\n",
    "       else:\n",
    "           print(\"{0} is not a leap year\".format(year))\n",
    "   else:\n",
    "       print(\"{0} is a leap year\".format(year))\n",
    "else:\n",
    "   print(\"{0} is not a leap year\".format(year))"
   ]
  },
  {
   "cell_type": "code",
   "execution_count": 8,
   "metadata": {},
   "outputs": [
    {
     "name": "stdout",
     "output_type": "stream",
     "text": [
      "Enter a number: 33\n",
      "33 is not a prime number\n"
     ]
    }
   ],
   "source": [
    "#4. Write a Python Program to Check Prime Number?\n",
    "\n",
    "# Program to check if a number is prime or not\n",
    "\n",
    "num = int(input(\"Enter a number: \"))\n",
    "\n",
    "# To take input from the user\n",
    "#num = int(input(\"Enter a number: \"))\n",
    "\n",
    "# define a flag variable\n",
    "flag = False\n",
    "\n",
    "# prime numbers are greater than 1\n",
    "if num > 1:\n",
    "    # check for factors\n",
    "    for i in range(2, num):\n",
    "        if (num % i) == 0:\n",
    "            # if factor is found, set flag to True\n",
    "            flag = True\n",
    "            # break out of loop\n",
    "            break\n",
    "\n",
    "# check if flag is True\n",
    "if flag:\n",
    "    print(num, \"is not a prime number\")\n",
    "else:\n",
    "    print(num, \"is a prime number\")"
   ]
  },
  {
   "cell_type": "code",
   "execution_count": 12,
   "metadata": {},
   "outputs": [
    {
     "name": "stdout",
     "output_type": "stream",
     "text": [
      "Prime numbers between 900 and 1000 are:\n",
      "907\n",
      "911\n",
      "919\n",
      "929\n",
      "937\n",
      "941\n",
      "947\n",
      "953\n",
      "967\n",
      "971\n",
      "977\n",
      "983\n",
      "991\n",
      "997\n"
     ]
    }
   ],
   "source": [
    "#5. Write a Python Program to Print all Prime Numbers in an Interval of 1-10000?\n",
    "\n",
    "# Python program to display all the prime numbers within an interval\n",
    "\n",
    "lower = 900\n",
    "upper = 1000\n",
    "\n",
    "print(\"Prime numbers between\", lower, \"and\", upper, \"are:\")\n",
    "\n",
    "for num in range(lower, upper + 1):\n",
    "   # all prime numbers are greater than 1\n",
    "   if num > 1:\n",
    "       for i in range(2, num):\n",
    "           if (num % i) == 0:\n",
    "               break\n",
    "       else:\n",
    "           print(num)\n"
   ]
  },
  {
   "cell_type": "code",
   "execution_count": null,
   "metadata": {},
   "outputs": [],
   "source": []
  }
 ],
 "metadata": {
  "kernelspec": {
   "display_name": "Python 3",
   "language": "python",
   "name": "python3"
  },
  "language_info": {
   "codemirror_mode": {
    "name": "ipython",
    "version": 3
   },
   "file_extension": ".py",
   "mimetype": "text/x-python",
   "name": "python",
   "nbconvert_exporter": "python",
   "pygments_lexer": "ipython3",
   "version": "3.8.5"
  }
 },
 "nbformat": 4,
 "nbformat_minor": 4
}
